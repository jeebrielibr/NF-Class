{
  "nbformat": 4,
  "nbformat_minor": 0,
  "metadata": {
    "colab": {
      "provenance": []
    },
    "kernelspec": {
      "name": "python3",
      "display_name": "Python 3"
    },
    "language_info": {
      "name": "python"
    }
  },
  "cells": [
    {
      "cell_type": "markdown",
      "source": [
        "TUGAS 1 INPUT OUTPUT & FORMAT PRINT\n",
        "\n",
        "PT. XYZ memiliki sistem penggajian dengan data sbb (input):\n",
        "\n",
        "Nama pegawai, Divisi, Agama, Jabatan.\n",
        "\n",
        "Carilah data2 di bawah ini menggunakan struktur kendali IF:\n",
        "- gaji pokok: jika jabatan staff = 4jt, kabag = 7jt, manager = 10jt\n",
        "- tunjangan jabatan = 20% dari gaji pokok\n",
        "- gaji kotor = gaji pokok + tunjab\n",
        "- zakat 2,5 % dari gaji kotor(gunakan ternary) =\n",
        "  jika muslim dan gaji kotor minimal 7jt\n",
        "- gaji bersih = (gapok + tunjangan jabatan) - zakat\n",
        "\n",
        "Cetaklah data2 di atas dengan format print sesuai tipe data masing2:\n",
        "Nama                :\n",
        "Agama               :\n",
        "Divisi              :\n",
        "Jabatan             :\n",
        "Gaji Pokok          :\n",
        "Tunjangan Jabatan   :\n",
        "Gaji Kotor          :\n",
        "Zakat Profesi       :\n",
        "Gaji Bersih         :\n",
        "\n",
        "Kirim 1 pekan setelah materi ke email asdos masing2\n",
        "subject: DDP_tugas1_NIM_NAMA_Rombel"
      ],
      "metadata": {
        "id": "cSAjK9_tUczu"
      }
    },
    {
      "cell_type": "code",
      "source": [
        "# Tugas 1 menentukan gaji karyawan\n",
        "print(\"--- Sistem penggajian pegawai ---\")\n",
        "\n",
        "# input pegawai\n",
        "nama_pegawai = input(\"Sebutkan Nama Pegawai: \")\n",
        "divisi = input(\"Sebutkan Divisi: \")\n",
        "agama = input(\"Sebutkan Agama: \")\n",
        "\n",
        "print(\"Jabatan:\",\n",
        "      \"\\n1.Staff\",\n",
        "      \"\\n2.Kabag\",\n",
        "      \"\\n3.Meneger\")\n",
        "\n",
        "jabatan = int(input(\"\\nSebutkan Angka Jabatan: \"))\n",
        "\n",
        "# Gaji Pokok\n",
        "if(jabatan == 1):\n",
        "  gaji_pokok = 4000000\n",
        "  jabatan = \"Staff\"\n",
        "elif(jabatan == 2):\n",
        "  gaji_pokok = 7000000\n",
        "  jabatan = \"Kabag\"\n",
        "elif(jabatan == 3):\n",
        "  gaji_pokok = 10000000\n",
        "  jabatan = \"Manager\"\n",
        "else:\n",
        "  print(\"Jabatan tidak Valid\")\n",
        "\n",
        "# tunjangan jabatan\n",
        "tunjangan_jabatan = 0.20 * gaji_pokok\n",
        "\n",
        "# gaji kotor\n",
        "gaji_kotor = gaji_pokok + tunjangan_jabatan\n",
        "\n",
        "#zakat\n",
        "zakat = 0.025 * gaji_kotor if (agama == \"islam\" and gaji_kotor >= 7000000) else 0\n",
        "\n",
        "# gaji bersih\n",
        "gaji_bersih = gaji_kotor - zakat\n",
        "\n",
        "print(\"\\n---Data Gaji Pegawai---\",\n",
        "      \"\\nNama Pegawai\\t\\t:\", nama_pegawai,\n",
        "      \"\\nAgama\\t\\t\\t:\", agama,\n",
        "      \"\\nDivisi\\t\\t\\t:\", divisi,\n",
        "      \"\\nJabatan\\t\\t\\t:\", jabatan,\n",
        "      \"\\nGaji Pokok\\t\\t: Rp {:,.0f}\".format(gaji_pokok),\n",
        "      \"\\nTunjangan Jabatan\\t: Rp {:,.0f}\".format(tunjangan_jabatan),\n",
        "      \"\\nGaji Kotor\\t\\t: Rp {:,.0f}\".format(gaji_kotor),\n",
        "      \"\\nZakat Profesi\\t\\t: Rp {:,.0f}\".format(zakat),\n",
        "      \"\\nGaji Bersih\\t\\t: Rp {:,.0f}\".format(gaji_bersih))"
      ],
      "metadata": {
        "colab": {
          "base_uri": "https://localhost:8080/"
        },
        "id": "8qv8BNOaW6OQ",
        "outputId": "34ef243e-0db9-415d-9daf-2881355a4ef6"
      },
      "execution_count": 9,
      "outputs": [
        {
          "output_type": "stream",
          "name": "stdout",
          "text": [
            "--- Sistem penggajian pegawai ---\n",
            "Sebutkan Nama Pegawai: andi\n",
            "Sebutkan Divisi: marketing\n",
            "Sebutkan Agama: islam\n",
            "Jabatan: \n",
            "1.Staff \n",
            "2.Kabag \n",
            "3.Meneger\n",
            "\n",
            "Sebutkan Angka Jabatan: 3\n",
            "\n",
            "---Data Gaji Pegawai--- \n",
            "Nama Pegawai\t\t: andi \n",
            "Agama\t\t\t: islam \n",
            "Divisi\t\t\t: marketing \n",
            "Jabatan\t\t\t: Manager \n",
            "Gaji Pokok\t\t: Rp 10,000,000 \n",
            "Tunjangan Jabatan\t: Rp 2,000,000 \n",
            "Gaji Kotor\t\t: Rp 12,000,000 \n",
            "Zakat Profesi\t\t: Rp 300,000 \n",
            "Gaji Bersih\t\t: Rp 11,700,000\n"
          ]
        }
      ]
    }
  ]
}